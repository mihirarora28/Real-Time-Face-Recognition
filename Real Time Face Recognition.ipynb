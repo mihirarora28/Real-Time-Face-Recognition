{
 "cells": [
  {
   "cell_type": "code",
   "execution_count": 6,
   "id": "4c2a9607",
   "metadata": {},
   "outputs": [],
   "source": [
    "import cv2\n",
    "import numpy\n",
    "import matplotlib.pyplot as plt"
   ]
  },
  {
   "cell_type": "code",
   "execution_count": 5,
   "id": "4e3cfbbf",
   "metadata": {},
   "outputs": [],
   "source": [
    "# img = cv2.imread('mihir.jpg')\n",
    "# cv2.imshow('Parents',img)\n",
    "\n",
    "# cv2.waitKey(2000) # wait for 250 milliseconds; \n",
    "# cv2.waitKey(0) \n",
    "# cv2.destroyAllWindows()\n",
    "# # newimg = cv2.cvtColor(img,cv2.COLOR_BGR2RGB)"
   ]
  },
  {
   "cell_type": "code",
   "execution_count": 1,
   "id": "8d8250e9",
   "metadata": {},
   "outputs": [
    {
     "name": "stdout",
     "output_type": "stream",
     "text": [
      "286\n"
     ]
    }
   ],
   "source": [
    "# import cv2\n",
    "# cap = cv2.VideoCapture(0)\n",
    "# ctr = 0\n",
    "# while True:\n",
    "#     ctr = ctr + 1\n",
    "#     ret,frame = cap.read()\n",
    "#     if ret == False:\n",
    "#         continue\n",
    "#     cv2.imshow('Video Frame',frame)\n",
    "#     key_pressed = cv2.waitKey(1) & 0xFF\n",
    "#     if key_pressed == ord('q'):\n",
    "#         break\n",
    "# print(ctr)"
   ]
  },
  {
   "cell_type": "code",
   "execution_count": 7,
   "id": "759caa1f",
   "metadata": {},
   "outputs": [],
   "source": [
    "cap = cv2.VideoCapture(0) #initiate the camera\n",
    "\n",
    "face_cascade = cv2.CascadeClassifier(\"haarcascade_frontalface_alt.xml\") #face detection "
   ]
  },
  {
   "cell_type": "code",
   "execution_count": 8,
   "id": "21c2b5ec",
   "metadata": {
    "scrolled": true
   },
   "outputs": [],
   "source": [
    "while True:\n",
    "    ret,frame = cap.read()\n",
    "    if ret == False:\n",
    "        continue\n",
    "    grey_frame = cv2.cvtColor(frame,cv2.COLOR_BGR2GRAY)\n",
    "    cv2.imshow(\"Frame\",frame)\n",
    "    faces = face_cascade.detectMultiScale(frame,1.3,5)\n",
    "    faces = sorted\n",
    "    key_pressed = cv2.waitKey(1) & 0xFF  ## when q pressed then stops\n",
    "    if(key_pressed == ord('q')):\n",
    "        break\n",
    "\n",
    "cap.release()\n",
    "cv2.destroyAllWindows()"
   ]
  },
  {
   "cell_type": "code",
   "execution_count": 18,
   "id": "51f77f41",
   "metadata": {
    "scrolled": true
   },
   "outputs": [],
   "source": []
  },
  {
   "cell_type": "code",
   "execution_count": null,
   "id": "fb6a185a",
   "metadata": {},
   "outputs": [],
   "source": []
  },
  {
   "cell_type": "code",
   "execution_count": null,
   "id": "481aab72",
   "metadata": {},
   "outputs": [],
   "source": []
  },
  {
   "cell_type": "code",
   "execution_count": null,
   "id": "84682d1c",
   "metadata": {},
   "outputs": [],
   "source": []
  }
 ],
 "metadata": {
  "kernelspec": {
   "display_name": "Python 3 (ipykernel)",
   "language": "python",
   "name": "python3"
  },
  "language_info": {
   "codemirror_mode": {
    "name": "ipython",
    "version": 3
   },
   "file_extension": ".py",
   "mimetype": "text/x-python",
   "name": "python",
   "nbconvert_exporter": "python",
   "pygments_lexer": "ipython3",
   "version": "3.9.4"
  }
 },
 "nbformat": 4,
 "nbformat_minor": 5
}
